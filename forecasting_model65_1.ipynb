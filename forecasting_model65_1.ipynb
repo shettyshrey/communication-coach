{
  "nbformat": 4,
  "nbformat_minor": 0,
  "metadata": {
    "colab": {
      "provenance": [],
      "include_colab_link": true
    },
    "kernelspec": {
      "name": "python3",
      "display_name": "Python 3"
    },
    "language_info": {
      "name": "python"
    }
  },
  "cells": [
    {
      "cell_type": "markdown",
      "metadata": {
        "id": "view-in-github",
        "colab_type": "text"
      },
      "source": [
        "<a href=\"https://colab.research.google.com/github/shettyshrey/communication-coach/blob/main/forecasting_model65_1.ipynb\" target=\"_parent\"><img src=\"https://colab.research.google.com/assets/colab-badge.svg\" alt=\"Open In Colab\"/></a>"
      ]
    },
    {
      "cell_type": "code",
      "execution_count": null,
      "metadata": {
        "id": "JZAKdg152Llf"
      },
      "outputs": [],
      "source": [
        "import numpy as np\n",
        "import pandas as pd\n",
        "import matplotlib.pyplot as plt"
      ]
    },
    {
      "cell_type": "code",
      "source": [
        "from google.colab import files\n",
        "uploaded = files.upload()  # This will open a file picker dialog\n",
        "df = pd.read_csv('green_taxi_data.csv')"
      ],
      "metadata": {
        "colab": {
          "base_uri": "https://localhost:8080/",
          "height": 71
        },
        "id": "LiQ5NyJ92XIX",
        "outputId": "681f4ec2-d90c-42dd-e57b-3ef31919be07"
      },
      "execution_count": null,
      "outputs": [
        {
          "output_type": "display_data",
          "data": {
            "text/plain": [
              "<IPython.core.display.HTML object>"
            ],
            "text/html": [
              "\n",
              "     <input type=\"file\" id=\"files-0d6c6187-f822-4f8f-b52b-9ebc462edd27\" name=\"files[]\" multiple disabled\n",
              "        style=\"border:none\" />\n",
              "     <output id=\"result-0d6c6187-f822-4f8f-b52b-9ebc462edd27\">\n",
              "      Upload widget is only available when the cell has been executed in the\n",
              "      current browser session. Please rerun this cell to enable.\n",
              "      </output>\n",
              "      <script>// Copyright 2017 Google LLC\n",
              "//\n",
              "// Licensed under the Apache License, Version 2.0 (the \"License\");\n",
              "// you may not use this file except in compliance with the License.\n",
              "// You may obtain a copy of the License at\n",
              "//\n",
              "//      http://www.apache.org/licenses/LICENSE-2.0\n",
              "//\n",
              "// Unless required by applicable law or agreed to in writing, software\n",
              "// distributed under the License is distributed on an \"AS IS\" BASIS,\n",
              "// WITHOUT WARRANTIES OR CONDITIONS OF ANY KIND, either express or implied.\n",
              "// See the License for the specific language governing permissions and\n",
              "// limitations under the License.\n",
              "\n",
              "/**\n",
              " * @fileoverview Helpers for google.colab Python module.\n",
              " */\n",
              "(function(scope) {\n",
              "function span(text, styleAttributes = {}) {\n",
              "  const element = document.createElement('span');\n",
              "  element.textContent = text;\n",
              "  for (const key of Object.keys(styleAttributes)) {\n",
              "    element.style[key] = styleAttributes[key];\n",
              "  }\n",
              "  return element;\n",
              "}\n",
              "\n",
              "// Max number of bytes which will be uploaded at a time.\n",
              "const MAX_PAYLOAD_SIZE = 100 * 1024;\n",
              "\n",
              "function _uploadFiles(inputId, outputId) {\n",
              "  const steps = uploadFilesStep(inputId, outputId);\n",
              "  const outputElement = document.getElementById(outputId);\n",
              "  // Cache steps on the outputElement to make it available for the next call\n",
              "  // to uploadFilesContinue from Python.\n",
              "  outputElement.steps = steps;\n",
              "\n",
              "  return _uploadFilesContinue(outputId);\n",
              "}\n",
              "\n",
              "// This is roughly an async generator (not supported in the browser yet),\n",
              "// where there are multiple asynchronous steps and the Python side is going\n",
              "// to poll for completion of each step.\n",
              "// This uses a Promise to block the python side on completion of each step,\n",
              "// then passes the result of the previous step as the input to the next step.\n",
              "function _uploadFilesContinue(outputId) {\n",
              "  const outputElement = document.getElementById(outputId);\n",
              "  const steps = outputElement.steps;\n",
              "\n",
              "  const next = steps.next(outputElement.lastPromiseValue);\n",
              "  return Promise.resolve(next.value.promise).then((value) => {\n",
              "    // Cache the last promise value to make it available to the next\n",
              "    // step of the generator.\n",
              "    outputElement.lastPromiseValue = value;\n",
              "    return next.value.response;\n",
              "  });\n",
              "}\n",
              "\n",
              "/**\n",
              " * Generator function which is called between each async step of the upload\n",
              " * process.\n",
              " * @param {string} inputId Element ID of the input file picker element.\n",
              " * @param {string} outputId Element ID of the output display.\n",
              " * @return {!Iterable<!Object>} Iterable of next steps.\n",
              " */\n",
              "function* uploadFilesStep(inputId, outputId) {\n",
              "  const inputElement = document.getElementById(inputId);\n",
              "  inputElement.disabled = false;\n",
              "\n",
              "  const outputElement = document.getElementById(outputId);\n",
              "  outputElement.innerHTML = '';\n",
              "\n",
              "  const pickedPromise = new Promise((resolve) => {\n",
              "    inputElement.addEventListener('change', (e) => {\n",
              "      resolve(e.target.files);\n",
              "    });\n",
              "  });\n",
              "\n",
              "  const cancel = document.createElement('button');\n",
              "  inputElement.parentElement.appendChild(cancel);\n",
              "  cancel.textContent = 'Cancel upload';\n",
              "  const cancelPromise = new Promise((resolve) => {\n",
              "    cancel.onclick = () => {\n",
              "      resolve(null);\n",
              "    };\n",
              "  });\n",
              "\n",
              "  // Wait for the user to pick the files.\n",
              "  const files = yield {\n",
              "    promise: Promise.race([pickedPromise, cancelPromise]),\n",
              "    response: {\n",
              "      action: 'starting',\n",
              "    }\n",
              "  };\n",
              "\n",
              "  cancel.remove();\n",
              "\n",
              "  // Disable the input element since further picks are not allowed.\n",
              "  inputElement.disabled = true;\n",
              "\n",
              "  if (!files) {\n",
              "    return {\n",
              "      response: {\n",
              "        action: 'complete',\n",
              "      }\n",
              "    };\n",
              "  }\n",
              "\n",
              "  for (const file of files) {\n",
              "    const li = document.createElement('li');\n",
              "    li.append(span(file.name, {fontWeight: 'bold'}));\n",
              "    li.append(span(\n",
              "        `(${file.type || 'n/a'}) - ${file.size} bytes, ` +\n",
              "        `last modified: ${\n",
              "            file.lastModifiedDate ? file.lastModifiedDate.toLocaleDateString() :\n",
              "                                    'n/a'} - `));\n",
              "    const percent = span('0% done');\n",
              "    li.appendChild(percent);\n",
              "\n",
              "    outputElement.appendChild(li);\n",
              "\n",
              "    const fileDataPromise = new Promise((resolve) => {\n",
              "      const reader = new FileReader();\n",
              "      reader.onload = (e) => {\n",
              "        resolve(e.target.result);\n",
              "      };\n",
              "      reader.readAsArrayBuffer(file);\n",
              "    });\n",
              "    // Wait for the data to be ready.\n",
              "    let fileData = yield {\n",
              "      promise: fileDataPromise,\n",
              "      response: {\n",
              "        action: 'continue',\n",
              "      }\n",
              "    };\n",
              "\n",
              "    // Use a chunked sending to avoid message size limits. See b/62115660.\n",
              "    let position = 0;\n",
              "    do {\n",
              "      const length = Math.min(fileData.byteLength - position, MAX_PAYLOAD_SIZE);\n",
              "      const chunk = new Uint8Array(fileData, position, length);\n",
              "      position += length;\n",
              "\n",
              "      const base64 = btoa(String.fromCharCode.apply(null, chunk));\n",
              "      yield {\n",
              "        response: {\n",
              "          action: 'append',\n",
              "          file: file.name,\n",
              "          data: base64,\n",
              "        },\n",
              "      };\n",
              "\n",
              "      let percentDone = fileData.byteLength === 0 ?\n",
              "          100 :\n",
              "          Math.round((position / fileData.byteLength) * 100);\n",
              "      percent.textContent = `${percentDone}% done`;\n",
              "\n",
              "    } while (position < fileData.byteLength);\n",
              "  }\n",
              "\n",
              "  // All done.\n",
              "  yield {\n",
              "    response: {\n",
              "      action: 'complete',\n",
              "    }\n",
              "  };\n",
              "}\n",
              "\n",
              "scope.google = scope.google || {};\n",
              "scope.google.colab = scope.google.colab || {};\n",
              "scope.google.colab._files = {\n",
              "  _uploadFiles,\n",
              "  _uploadFilesContinue,\n",
              "};\n",
              "})(self);\n",
              "</script> "
            ]
          },
          "metadata": {}
        },
        {
          "output_type": "stream",
          "name": "stdout",
          "text": [
            "Saving green_taxi_data.csv to green_taxi_data.csv\n"
          ]
        }
      ]
    },
    {
      "cell_type": "code",
      "source": [
        "df.columns"
      ],
      "metadata": {
        "colab": {
          "base_uri": "https://localhost:8080/"
        },
        "id": "c-LOY8yo2bt6",
        "outputId": "21a59da4-a791-47c3-a138-863f0b660d00"
      },
      "execution_count": null,
      "outputs": [
        {
          "output_type": "execute_result",
          "data": {
            "text/plain": [
              "Index(['VendorID', 'lpep_pickup_datetime', 'lpep_dropoff_datetime',\n",
              "       'store_and_fwd_flag', 'RatecodeID', 'PULocationID', 'DOLocationID',\n",
              "       'passenger_count', 'trip_distance', 'fare_amount', 'extra', 'mta_tax',\n",
              "       'tip_amount', 'tolls_amount', 'improvement_surcharge', 'total_amount',\n",
              "       'payment_type', 'trip_type', 'congestion_surcharge', 'duration',\n",
              "       'time_only', 'duration_minutes', 'pickup_hour', 'time_desc'],\n",
              "      dtype='object')"
            ]
          },
          "metadata": {},
          "execution_count": 7
        }
      ]
    },
    {
      "cell_type": "code",
      "source": [
        "df.groupby(['PULocationID']).agg('count')['VendorID']"
      ],
      "metadata": {
        "colab": {
          "base_uri": "https://localhost:8080/",
          "height": 490
        },
        "id": "zbZSbM6M2oFZ",
        "outputId": "98cf7269-4d7a-43cd-c3ba-e78b211dce97"
      },
      "execution_count": null,
      "outputs": [
        {
          "output_type": "execute_result",
          "data": {
            "text/plain": [
              "PULocationID\n",
              "1         1\n",
              "3         6\n",
              "4         8\n",
              "7      3072\n",
              "8         2\n",
              "       ... \n",
              "261      13\n",
              "262      24\n",
              "263     215\n",
              "264     162\n",
              "265      79\n",
              "Name: VendorID, Length: 239, dtype: int64"
            ],
            "text/html": [
              "<div>\n",
              "<style scoped>\n",
              "    .dataframe tbody tr th:only-of-type {\n",
              "        vertical-align: middle;\n",
              "    }\n",
              "\n",
              "    .dataframe tbody tr th {\n",
              "        vertical-align: top;\n",
              "    }\n",
              "\n",
              "    .dataframe thead th {\n",
              "        text-align: right;\n",
              "    }\n",
              "</style>\n",
              "<table border=\"1\" class=\"dataframe\">\n",
              "  <thead>\n",
              "    <tr style=\"text-align: right;\">\n",
              "      <th></th>\n",
              "      <th>VendorID</th>\n",
              "    </tr>\n",
              "    <tr>\n",
              "      <th>PULocationID</th>\n",
              "      <th></th>\n",
              "    </tr>\n",
              "  </thead>\n",
              "  <tbody>\n",
              "    <tr>\n",
              "      <th>1</th>\n",
              "      <td>1</td>\n",
              "    </tr>\n",
              "    <tr>\n",
              "      <th>3</th>\n",
              "      <td>6</td>\n",
              "    </tr>\n",
              "    <tr>\n",
              "      <th>4</th>\n",
              "      <td>8</td>\n",
              "    </tr>\n",
              "    <tr>\n",
              "      <th>7</th>\n",
              "      <td>3072</td>\n",
              "    </tr>\n",
              "    <tr>\n",
              "      <th>8</th>\n",
              "      <td>2</td>\n",
              "    </tr>\n",
              "    <tr>\n",
              "      <th>...</th>\n",
              "      <td>...</td>\n",
              "    </tr>\n",
              "    <tr>\n",
              "      <th>261</th>\n",
              "      <td>13</td>\n",
              "    </tr>\n",
              "    <tr>\n",
              "      <th>262</th>\n",
              "      <td>24</td>\n",
              "    </tr>\n",
              "    <tr>\n",
              "      <th>263</th>\n",
              "      <td>215</td>\n",
              "    </tr>\n",
              "    <tr>\n",
              "      <th>264</th>\n",
              "      <td>162</td>\n",
              "    </tr>\n",
              "    <tr>\n",
              "      <th>265</th>\n",
              "      <td>79</td>\n",
              "    </tr>\n",
              "  </tbody>\n",
              "</table>\n",
              "<p>239 rows × 1 columns</p>\n",
              "</div><br><label><b>dtype:</b> int64</label>"
            ]
          },
          "metadata": {},
          "execution_count": 8
        }
      ]
    },
    {
      "cell_type": "code",
      "source": [
        "import pandas as pd\n",
        "import numpy as np\n",
        "from statsmodels.tsa.statespace.sarimax import SARIMAX\n",
        "from datetime import datetime, timedelta\n",
        "import warnings\n",
        "warnings.filterwarnings('ignore')\n",
        "\n",
        "def prepare_time_series_data(df, location_id):\n",
        "    df['lpep_pickup_datetime'] = pd.to_datetime(df['lpep_pickup_datetime'])\n",
        "    location_data = df[df['PULocationID'] == location_id].copy()\n",
        "    hourly_demand = location_data.set_index('lpep_pickup_datetime').resample('H').size()\n",
        "\n",
        "    return hourly_demand\n",
        "\n",
        "def train_arima_model(data, order=(1,1,1)):\n",
        "    model = SARIMAX(data,\n",
        "                    order=order,\n",
        "                    seasonal_order=(1,1,1,24))\n",
        "\n",
        "    fitted_model = model.fit(disp=0)\n",
        "    return fitted_model\n",
        "\n",
        "def forecast_demand(model, steps=24):\n",
        "    forecast = model.forecast(steps=steps)\n",
        "    return forecast\n",
        "\n",
        "def evaluate_model(actual, predicted):\n",
        "    mse = np.mean((actual - predicted) ** 2)\n",
        "    rmse = np.sqrt(mse)\n",
        "    mae = np.mean(np.abs(actual - predicted))\n",
        "\n",
        "    return {\n",
        "        'MSE': mse,\n",
        "        'RMSE': rmse,\n",
        "        'MAE': mae\n",
        "    }\n",
        "\n",
        "def create_location_forecast(df, location_id):\n",
        "    time_series = prepare_time_series_data(df, location_id)\n",
        "\n",
        "    train_size = int(len(time_series) * 0.8)\n",
        "    train = time_series[:train_size]\n",
        "    test = time_series[train_size:]\n",
        "\n",
        "    model = train_arima_model(train)\n",
        "\n",
        "    forecast = forecast_demand(model, len(test))\n",
        "\n",
        "    metrics = evaluate_model(test, forecast)\n",
        "\n",
        "    return {\n",
        "        'model': model,\n",
        "        'forecast': forecast,\n",
        "        'metrics': metrics,\n",
        "        'test_actual': test\n",
        "    }\n",
        "\n",
        "def analyze_multiple_locations(df, location_ids):\n",
        "    results = {}\n",
        "\n",
        "    for location_id in location_ids:\n",
        "        print(f\"Processing location {location_id}...\")\n",
        "        results[location_id] = create_location_forecast(df, location_id)\n",
        "\n",
        "    return results\n",
        "\n",
        "def run_demand_forecast(df):\n",
        "    locations = df['PULocationID'].unique()[:5]\n",
        "\n",
        "    results = analyze_multiple_locations(df, locations)\n",
        "\n",
        "    for location_id, result in results.items():\n",
        "        print(f\"\\nResults for Location {location_id}:\")\n",
        "        print(\"Error Metrics:\")\n",
        "        for metric, value in result['metrics'].items():\n",
        "            print(f\"{metric}: {value:.2f}\")\n",
        "\n",
        "        future_forecast = forecast_demand(result['model'])\n",
        "        print(\"\\nNext 24 hours forecast:\")\n",
        "        print(future_forecast)\n",
        "\n",
        "    return results"
      ],
      "metadata": {
        "id": "h6iy89O42-Oj"
      },
      "execution_count": null,
      "outputs": []
    },
    {
      "cell_type": "code",
      "source": [
        "df = df[df['PULocationID'] == 65]"
      ],
      "metadata": {
        "id": "0uk7Jxy0-a7r"
      },
      "execution_count": null,
      "outputs": []
    },
    {
      "cell_type": "code",
      "source": [
        "run_demand_forecast(df)"
      ],
      "metadata": {
        "colab": {
          "base_uri": "https://localhost:8080/"
        },
        "id": "2xjnCHVQ8r20",
        "outputId": "cf8d94fc-fbdb-429c-d20e-8648d7d31019"
      },
      "execution_count": null,
      "outputs": [
        {
          "output_type": "stream",
          "name": "stdout",
          "text": [
            "Processing location 65...\n",
            "\n",
            "Results for Location 65:\n",
            "Error Metrics:\n",
            "MSE: 2.39\n",
            "RMSE: 1.55\n",
            "MAE: 1.05\n",
            "\n",
            "Next 24 hours forecast:\n",
            "2024-08-07 08:00:00    0.517964\n",
            "2024-08-07 09:00:00    1.048204\n",
            "2024-08-07 10:00:00    2.405279\n",
            "2024-08-07 11:00:00    2.068190\n",
            "2024-08-07 12:00:00    3.492591\n",
            "2024-08-07 13:00:00    1.935970\n",
            "2024-08-07 14:00:00    3.032660\n",
            "2024-08-07 15:00:00    2.671707\n",
            "2024-08-07 16:00:00    3.455828\n",
            "2024-08-07 17:00:00    6.032378\n",
            "2024-08-07 18:00:00    6.556474\n",
            "2024-08-07 19:00:00    5.370676\n",
            "2024-08-07 20:00:00    2.519704\n",
            "2024-08-07 21:00:00    1.475111\n",
            "2024-08-07 22:00:00    0.857967\n",
            "2024-08-07 23:00:00    0.756410\n",
            "2024-08-08 00:00:00    0.488796\n",
            "2024-08-08 01:00:00    0.198168\n",
            "2024-08-08 02:00:00    0.171862\n",
            "2024-08-08 03:00:00    0.045778\n",
            "2024-08-08 04:00:00   -0.006480\n",
            "2024-08-08 05:00:00   -0.007975\n",
            "2024-08-08 06:00:00    0.008112\n",
            "2024-08-08 07:00:00    0.374164\n",
            "Freq: h, Name: predicted_mean, dtype: float64\n"
          ]
        },
        {
          "output_type": "execute_result",
          "data": {
            "text/plain": [
              "{65: {'model': <statsmodels.tsa.statespace.sarimax.SARIMAXResultsWrapper at 0x785086003df0>,\n",
              "  'forecast': 2024-08-07 08:00:00    0.517964\n",
              "  2024-08-07 09:00:00    1.048204\n",
              "  2024-08-07 10:00:00    2.405279\n",
              "  2024-08-07 11:00:00    2.068190\n",
              "  2024-08-07 12:00:00    3.492591\n",
              "                           ...   \n",
              "  2024-08-31 17:00:00    5.922806\n",
              "  2024-08-31 18:00:00    6.325331\n",
              "  2024-08-31 19:00:00    5.288971\n",
              "  2024-08-31 20:00:00    2.697387\n",
              "  2024-08-31 21:00:00    1.402007\n",
              "  Freq: h, Name: predicted_mean, Length: 590, dtype: float64,\n",
              "  'metrics': {'MSE': 2.387869449652601,\n",
              "   'RMSE': 1.5452732605117456,\n",
              "   'MAE': 1.0479921799169816},\n",
              "  'test_actual': lpep_pickup_datetime\n",
              "  2024-08-07 08:00:00    0\n",
              "  2024-08-07 09:00:00    0\n",
              "  2024-08-07 10:00:00    0\n",
              "  2024-08-07 11:00:00    1\n",
              "  2024-08-07 12:00:00    5\n",
              "                        ..\n",
              "  2024-08-31 17:00:00    0\n",
              "  2024-08-31 18:00:00    5\n",
              "  2024-08-31 19:00:00    0\n",
              "  2024-08-31 20:00:00    1\n",
              "  2024-08-31 21:00:00    2\n",
              "  Freq: h, Length: 590, dtype: int64}}"
            ]
          },
          "metadata": {},
          "execution_count": 11
        }
      ]
    },
    {
      "cell_type": "code",
      "source": [
        "import matplotlib.pyplot as plt\n",
        "\n",
        "# Assuming 'results' is the variable holding the output of 'run_demand_forecast'\n",
        "# and you want to plot for location ID 65\n",
        "location_id = 65  # Replace with the desired location ID\n",
        "results = run_demand_forecast(df)  # Assuming 'df' is already defined and preprocessed\n",
        "\n",
        "# Extract the forecast for the desired location\n",
        "forecast = results[location_id]['forecast']\n",
        "\n",
        "# Extract the 24-hour forecast from the data\n",
        "forecast_24hr = forecast['2024-08-07 08:00:00':'2024-08-08 07:00:00']\n",
        "\n",
        "# Plot the 24-hour forecast\n",
        "plt.figure(figsize=(12, 6))\n",
        "plt.plot(forecast_24hr.index, forecast_24hr.values, marker='o', linestyle='-', label='Forecasted Demand')\n",
        "plt.axhline(y=4, color='red', linestyle='--', label='Fleet Capacity')  # Example of fleet capacity\n",
        "plt.title(\"24-Hour Taxi Demand Forecast\")\n",
        "plt.xlabel(\"Time\")\n",
        "plt.ylabel(\"Forecasted Demand\")\n",
        "plt.xticks(rotation=45)\n",
        "plt.grid(True)\n",
        "plt.legend()\n",
        "plt.tight_layout()\n",
        "plt.show()"
      ],
      "metadata": {
        "colab": {
          "base_uri": "https://localhost:8080/",
          "height": 1000
        },
        "id": "9md_hoDNBqcG",
        "outputId": "225c5aea-149e-42d3-f498-bb7c7331dffe"
      },
      "execution_count": null,
      "outputs": [
        {
          "output_type": "stream",
          "name": "stdout",
          "text": [
            "Processing location 65...\n",
            "\n",
            "Results for Location 65:\n",
            "Error Metrics:\n",
            "MSE: 2.39\n",
            "RMSE: 1.55\n",
            "MAE: 1.05\n",
            "\n",
            "Next 24 hours forecast:\n",
            "2024-08-07 08:00:00    0.517964\n",
            "2024-08-07 09:00:00    1.048204\n",
            "2024-08-07 10:00:00    2.405279\n",
            "2024-08-07 11:00:00    2.068190\n",
            "2024-08-07 12:00:00    3.492591\n",
            "2024-08-07 13:00:00    1.935970\n",
            "2024-08-07 14:00:00    3.032660\n",
            "2024-08-07 15:00:00    2.671707\n",
            "2024-08-07 16:00:00    3.455828\n",
            "2024-08-07 17:00:00    6.032378\n",
            "2024-08-07 18:00:00    6.556474\n",
            "2024-08-07 19:00:00    5.370676\n",
            "2024-08-07 20:00:00    2.519704\n",
            "2024-08-07 21:00:00    1.475111\n",
            "2024-08-07 22:00:00    0.857967\n",
            "2024-08-07 23:00:00    0.756410\n",
            "2024-08-08 00:00:00    0.488796\n",
            "2024-08-08 01:00:00    0.198168\n",
            "2024-08-08 02:00:00    0.171862\n",
            "2024-08-08 03:00:00    0.045778\n",
            "2024-08-08 04:00:00   -0.006480\n",
            "2024-08-08 05:00:00   -0.007975\n",
            "2024-08-08 06:00:00    0.008112\n",
            "2024-08-08 07:00:00    0.374164\n",
            "Freq: h, Name: predicted_mean, dtype: float64\n"
          ]
        },
        {
          "output_type": "display_data",
          "data": {
            "text/plain": [
              "<Figure size 1200x600 with 1 Axes>"
            ],
            "image/png": "[encoded data removed]"
          },
          "metadata": {}
        }
      ]
    },
    {
      "cell_type": "code",
      "source": [
        "import pandas as pd\n",
        "\n",
        "def evaluate_service_levels(forecasted_demand, fleet_capacity):\n",
        "    \"\"\"\n",
        "    Compare forecasted demand with current fleet capacity to calculate unmet demand\n",
        "    and propose solutions for resource allocation.\n",
        "\n",
        "    Parameters:\n",
        "    forecasted_demand (pd.Series): Hourly or daily forecasted demand for taxis.\n",
        "    fleet_capacity (int): The current number of taxis available.\n",
        "\n",
        "    Returns:\n",
        "    pd.DataFrame: A table showing forecasted demand, unmet demand, and recommendations.\n",
        "    \"\"\"\n",
        "    # Create a DataFrame to store results\n",
        "    evaluation = pd.DataFrame({\n",
        "        'Forecasted_Demand': forecasted_demand,\n",
        "        'Fleet_Capacity': [fleet_capacity] * len(forecasted_demand)  # Assuming constant fleet capacity\n",
        "    })\n",
        "\n",
        "    # Calculate unmet demand\n",
        "    evaluation['Unmet_Demand'] = evaluation['Forecasted_Demand'] - evaluation['Fleet_Capacity']\n",
        "    evaluation['Unmet_Demand'] = evaluation['Unmet_Demand'].apply(lambda x: max(0, x))  # Unmet demand cannot be negative\n",
        "\n",
        "    # Add recommendations\n",
        "    evaluation['Recommendation'] = evaluation['Unmet_Demand'].apply(\n",
        "        lambda x: \"Deploy Additional Taxis\" if x > 0 else \"Capacity Sufficient\"\n",
        "    )\n",
        "\n",
        "    return evaluation\n",
        "\n",
        "# Example usage for time range 5 PM to 7 PM\n",
        "forecasted_demand = pd.Series(\n",
        "    [6.0, 5.0],  # Forecasted demand for 5 PM and 6 PM\n",
        "    index=pd.date_range('2024-08-07 17:00', periods=2, freq='H')  # Time range 5 PM to 7 PM\n",
        ")\n",
        "fleet_capacity = 4  # Example fleet capacity\n",
        "\n",
        "# Evaluate service levels for the specified time range\n",
        "service_levels = evaluate_service_levels(forecasted_demand, fleet_capacity)\n",
        "print(service_levels)\n",
        "\n"
      ],
      "metadata": {
        "id": "VCymqRPD88NJ",
        "colab": {
          "base_uri": "https://localhost:8080/"
        },
        "outputId": "d488b392-76ff-4240-ab32-98cade8ff13b"
      },
      "execution_count": null,
      "outputs": [
        {
          "output_type": "stream",
          "name": "stdout",
          "text": [
            "                     Forecasted_Demand  Fleet_Capacity  Unmet_Demand  \\\n",
            "2024-08-07 17:00:00                6.0               4           2.0   \n",
            "2024-08-07 18:00:00                5.0               4           1.0   \n",
            "\n",
            "                              Recommendation  \n",
            "2024-08-07 17:00:00  Deploy Additional Taxis  \n",
            "2024-08-07 18:00:00  Deploy Additional Taxis  \n"
          ]
        }
      ]
    },
    {
      "cell_type": "code",
      "source": [
        "# Filter the data to show only peak periods with unmet demand\n",
        "peak_periods = service_levels[service_levels['Unmet_Demand'] > 0]\n",
        "print(peak_periods)\n",
        "\n"
      ],
      "metadata": {
        "colab": {
          "base_uri": "https://localhost:8080/"
        },
        "id": "whQ1PhMdbePV",
        "outputId": "c6ca0895-7645-45fa-db8a-18b3ddac032a"
      },
      "execution_count": null,
      "outputs": [
        {
          "output_type": "stream",
          "name": "stdout",
          "text": [
            "                     Forecasted_Demand  Fleet_Capacity  Unmet_Demand  \\\n",
            "2024-08-07 17:00:00                6.0               4           2.0   \n",
            "2024-08-07 18:00:00                5.0               4           1.0   \n",
            "\n",
            "                              Recommendation  \n",
            "2024-08-07 17:00:00  Deploy Additional Taxis  \n",
            "2024-08-07 18:00:00  Deploy Additional Taxis  \n"
          ]
        }
      ]
    },
    {
      "cell_type": "code",
      "source": [
        "# Calculate additional taxis required\n",
        "peak_periods['Extra_Taxis_Required'] = peak_periods['Unmet_Demand']\n",
        "print(peak_periods[['Forecasted_Demand', 'Fleet_Capacity', 'Unmet_Demand', 'Extra_Taxis_Required']])\n"
      ],
      "metadata": {
        "colab": {
          "base_uri": "https://localhost:8080/"
        },
        "id": "EzLfpcVrb3Oj",
        "outputId": "25113afb-7856-455c-81b6-ded9d393e64d"
      },
      "execution_count": null,
      "outputs": [
        {
          "output_type": "stream",
          "name": "stdout",
          "text": [
            "                     Forecasted_Demand  Fleet_Capacity  Unmet_Demand  \\\n",
            "2024-08-07 17:00:00                6.0               4           2.0   \n",
            "2024-08-07 18:00:00                5.0               4           1.0   \n",
            "\n",
            "                     Extra_Taxis_Required  \n",
            "2024-08-07 17:00:00                   2.0  \n",
            "2024-08-07 18:00:00                   1.0  \n"
          ]
        }
      ]
    },
    {
      "cell_type": "code",
      "source": [
        "# Create a deployment plan\n",
        "deployment_plan = peak_periods[['Forecasted_Demand', 'Fleet_Capacity', 'Extra_Taxis_Required']]\n",
        "deployment_plan.rename(columns={'Fleet_Capacity': 'Base_Fleet'}, inplace=True)\n",
        "print(deployment_plan)\n"
      ],
      "metadata": {
        "colab": {
          "base_uri": "https://localhost:8080/"
        },
        "id": "ZzVX27wUb-Ay",
        "outputId": "5ca468bd-bb7e-4ce6-8d91-83b8b8f60969"
      },
      "execution_count": null,
      "outputs": [
        {
          "output_type": "stream",
          "name": "stdout",
          "text": [
            "                     Forecasted_Demand  Base_Fleet  Extra_Taxis_Required\n",
            "2024-08-07 17:00:00                6.0           4                   2.0\n",
            "2024-08-07 18:00:00                5.0           4                   1.0\n"
          ]
        }
      ]
    },
    {
      "cell_type": "code",
      "source": [
        "import matplotlib.pyplot as plt\n",
        "\n",
        "# Plot unmet demand and extra taxis required\n",
        "peak_periods[['Unmet_Demand', 'Extra_Taxis_Required']].plot(kind='bar', figsize=(10, 6), color=['red', 'orange'])\n",
        "plt.title(\"Unmet Demand and Extra Taxis Required During Peak Periods\")\n",
        "plt.xlabel(\"Time\")\n",
        "plt.ylabel(\"Number of Taxis\")\n",
        "plt.xticks(rotation=45)\n",
        "plt.grid()\n",
        "plt.show()\n"
      ],
      "metadata": {
        "colab": {
          "base_uri": "https://localhost:8080/",
          "height": 663
        },
        "id": "LFS0p5_5cDWp",
        "outputId": "4203ee66-a30f-44e9-e0d3-ae324c266ba1"
      },
      "execution_count": null,
      "outputs": [
        {
          "output_type": "display_data",
          "data": {
            "text/plain": [
              "<Figure size 1000x600 with 1 Axes>"
            ],
            "image/png": "[encoded data removed]"
          },
          "metadata": {}
        }
      ]
    },
    {
      "cell_type": "code",
      "source": [
        "# Filter data for Location ID 65\n",
        "location_id = 65\n",
        "filtered_data = df[df['PULocationID'] == location_id]\n",
        "\n",
        "# Calculate dynamic revenue per ride (average fare amount)\n",
        "if 'fare_amount' in filtered_data.columns:\n",
        "    revenue_per_ride = filtered_data['fare_amount'].mean()\n",
        "else:\n",
        "    revenue_per_ride = 10  # Default to $10 if fare_amount is not in the dataset\n",
        "\n",
        "# Calculate dynamic cost per taxi per hour based on average duration\n",
        "if 'duration_minutes' in filtered_data.columns:\n",
        "    cost_per_taxi_per_hour = (filtered_data['duration_minutes'].mean() / 60) * 15\n",
        "else:\n",
        "    cost_per_taxi_per_hour = 15  # Default to $15/hour if duration data is missing\n",
        "\n",
        "# Define unmet demand penalty (assumed industry standard if not available in the data)\n",
        "unmet_demand_penalty = 20  # $20 per unmet ride\n",
        "\n",
        "# Calculate costs for additional taxis\n",
        "peak_periods['Additional_Taxi_Cost'] = peak_periods['Extra_Taxis_Required'] * cost_per_taxi_per_hour\n",
        "\n",
        "# Calculate unmet demand cost\n",
        "peak_periods['Unmet_Demand_Cost'] = peak_periods['Unmet_Demand'] * unmet_demand_penalty\n",
        "\n",
        "# Estimate total cost and revenue\n",
        "peak_periods['Potential_Revenue'] = peak_periods['Forecasted_Demand'] * revenue_per_ride\n",
        "\n",
        "# Calculate net profit\n",
        "peak_periods['Net_Profit'] = peak_periods['Potential_Revenue'] - (peak_periods['Additional_Taxi_Cost'] + peak_periods['Unmet_Demand_Cost'])\n",
        "\n",
        "# Display results\n",
        "print(f\"Dynamic Revenue per Ride: {revenue_per_ride:.2f}\")\n",
        "print(f\"Dynamic Cost per Taxi per Hour: {cost_per_taxi_per_hour:.2f}\")\n",
        "print(peak_periods[['Forecasted_Demand', 'Extra_Taxis_Required', 'Additional_Taxi_Cost',\n",
        "                    'Unmet_Demand_Cost', 'Potential_Revenue', 'Net_Profit']])\n",
        "\n"
      ],
      "metadata": {
        "colab": {
          "base_uri": "https://localhost:8080/"
        },
        "id": "EDJEK74tdEcV",
        "outputId": "31fec370-201f-4d0e-a031-9909319d2125"
      },
      "execution_count": null,
      "outputs": [
        {
          "output_type": "stream",
          "name": "stdout",
          "text": [
            "Dynamic Revenue per Ride: 20.52\n",
            "Dynamic Cost per Taxi per Hour: 7.64\n",
            "                     Forecasted_Demand  Extra_Taxis_Required  \\\n",
            "2024-08-07 11:00:00                6.0                   2.0   \n",
            "2024-08-07 12:00:00                5.0                   1.0   \n",
            "\n",
            "                     Additional_Taxi_Cost  Unmet_Demand_Cost  \\\n",
            "2024-08-07 11:00:00             15.285876               40.0   \n",
            "2024-08-07 12:00:00              7.642938               20.0   \n",
            "\n",
            "                     Potential_Revenue  Net_Profit  \n",
            "2024-08-07 11:00:00         123.125430   67.839554  \n",
            "2024-08-07 12:00:00         102.604525   74.961587  \n"
          ]
        }
      ]
    }
  ]
}